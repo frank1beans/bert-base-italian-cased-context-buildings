{
 "cells": [
  {
   "cell_type": "code",
   "execution_count": 28,
   "id": "88eaaf84-0320-4a2a-8355-658ae61aa7ef",
   "metadata": {
    "scrolled": true
   },
   "outputs": [
    {
     "name": "stdout",
     "output_type": "stream",
     "text": [
      "Supercategoria: Massetti, sottofondi, drenaggi, vespai\n",
      "Categoria: Porte tagliafuoco\n"
     ]
    }
   ],
   "source": [
    "import torch\n",
    "from transformers import AutoTokenizer, AutoModel\n",
    "import os\n",
    "import json\n",
    "\n",
    "with open('config.json') as f:\n",
    "    CONFIG = json.load(f)\n",
    "\n",
    "MODEL_PATH = CONFIG['model_path']\n",
    "MODEL_DIR_SUP = CONFIG['model_dir_super']\n",
    "MODEL_DIR_CAT = CONFIG['model_dir_cat']\n",
    "DEVICE = torch.device(CONFIG.get('device', 'cuda' if torch.cuda.is_available() else 'cpu'))\n",
    "\n",
    "def load_mappings(path):\n",
    "    mapping = {}\n",
    "    with open(path, encoding=\"utf-8\") as f:\n",
    "        for line in f:\n",
    "            if \":\" in line:\n",
    "                idx, label = line.strip().split(\":\", 1)\n",
    "                mapping[int(idx)] = label.strip()\n",
    "    return mapping\n",
    "\n",
    "idx2sup = load_mappings(os.path.join(MODEL_DIR_SUP, \"label_mappings.txt\"))\n",
    "idx2cat = load_mappings(os.path.join(MODEL_DIR_CAT, \"label_mappings.txt\"))\n",
    "\n",
    "class ClassifierModel(torch.nn.Module):\n",
    "    def __init__(self, model_path, nlabels):\n",
    "        super().__init__()\n",
    "        self.tokenizer = AutoTokenizer.from_pretrained(model_path)\n",
    "        self.encoder = AutoModel.from_pretrained(model_path, add_pooling_layer=False)\n",
    "        dim = self.encoder.config.hidden_size\n",
    "        self.head = torch.nn.Sequential(\n",
    "            torch.nn.Linear(dim, 256), torch.nn.ReLU(), torch.nn.Dropout(0.2), torch.nn.Linear(256, nlabels)\n",
    "        )\n",
    "\n",
    "    def forward(self, texts):\n",
    "        texts = [\"descrizione tecnica: \" + t for t in texts]\n",
    "        tokens = self.tokenizer(texts, padding=True, truncation=True, return_tensors=\"pt\").to(DEVICE)\n",
    "        output = self.encoder(**tokens)\n",
    "        emb = output.last_hidden_state[:, 0]\n",
    "        return self.head(emb)\n",
    "\n",
    "# Load models\n",
    "sup_model = ClassifierModel(MODEL_PATH, len(idx2sup)).to(DEVICE)\n",
    "sup_model.load_state_dict(torch.load(os.path.join(MODEL_DIR_SUP, \"best_model.pt\"), map_location=DEVICE))\n",
    "sup_model.eval()\n",
    "\n",
    "cat_model = ClassifierModel(MODEL_PATH, len(idx2cat)).to(DEVICE)\n",
    "cat_model.load_state_dict(torch.load(os.path.join(MODEL_DIR_CAT, \"best_model.pt\"), map_location=DEVICE))\n",
    "cat_model.eval()\n",
    "\n",
    "def predict(text):\n",
    "    with torch.no_grad():\n",
    "        out_sup = sup_model([text])\n",
    "        pred_sup = out_sup.argmax(dim=1).item()\n",
    "\n",
    "        out_cat = cat_model([text])\n",
    "        pred_cat = out_cat.argmax(dim=1).item()\n",
    "\n",
    "    return idx2sup[pred_sup], idx2cat[pred_cat]\n",
    "\n",
    "if __name__ == \"__main__\":\n",
    "    descrizione = \"\"\"\n",
    "\n",
    "ISOLAMENTI TERMICI CAM\n",
    "ISOLAMENTO TERMICO - CAM - su pareti verticali, orizzontali o inclinate\n",
    "Compreso:\n",
    "- oneri per la preparazione dei supporti (se non diversamente esplicitato)\n",
    "- calo ed il sollevamento dei materiali\n",
    "- ponti di servizio e/o trabattelli a norma con altezza massima 2,00 m, anche esterni, mobili o fissi\n",
    "- formazione dei giunti\n",
    "- raccordo agli angoli,\n",
    "Le opere devono essere conformi ai Decreti del MASE sui Criteri Ambientali Minimi - CAM, alle prescrizioni delle ditte produttrici e alle normative di riferimento.\n",
    "I prodotti per l'isolamento devono:\n",
    "- recare la marcatura CE\n",
    "- essere conformi alla UNI 13172\n",
    "- rispettare i requisiti della UNI 13501 in materia di reazione al fuoco da D.M. 15/03/2005 e seguenti (quando previsto).\n",
    "\n",
    "REALIZZAZIONE DI ISOLAMENTO A CAPPOTTO SU SUPERFICI INTERNE \"DISPERDENTI\" OPACHE VERTICALI RETTE, rispondenti alle normative tecniche vigenti previste dalle linee guida ETAG e dalle norme UNI, rispondente ai requisiti CAM e composto da una serie di elementi costruttivi (inclusi nel prezzo), realizzato su qualunque supporto ad esclusione del legno, quali: il primer, il collante per l\u2019ancoraggio, il materiale isolante, i tasselli (se necessari), se non diversamente precisato, il rasante, l'armatura con rete in tessuto di fibra di vetro, due mani di primer, strato di intonaco di fondo steso a spatola di almeno 3 mm di finitura (rivestimento con eventuale fondo adatto al sistema) e gli accessori, (se non diversamente precisato) in base alla tipologia di materiale. E\u2019 compresa altres\u00ec la verifica del supporto, sono esclusi, quindi da computare a parte, l\u2019eventuale realizzazione del sottofondo o il grosso ripristino dell\u2019intonaco della parete e lo strato di collante, tutte le opere di adeguamento degli impianti elettrici (placche, interruttori, prese e scatole di derivazione etc), gli impianti termici e/o meccanici (radiatori, fancoiler, split interni etc), come la rimozione e nuova fornitura del battiscopa e la tinteggiatura delle pareti o i ripristini degli imbotti delle aperture interne.\n",
    "\n",
    "Fornitura e posa in opera di pannelli di isolante in Poliuretano espanso (PUR) dello spessore mm 60 conforme alla norma UNI EN 13165:2016, esente da CFC o HCF, abbinato a pannelli di cartongesso dello spessore mm 13, dello spessore complessivo di mm 73, in classe E di reazione al fuoco secondo UNI EN 13501-1:2009; completi degli accessori di ancoraggio, dei sfridi e dei tagli a misura e della rifinitura dei pannelli a regola d'arte, la stuccatura dei giunti con armatura con rete in tessuto di fibra di vetro, la rasatura delle superfici e la successiva tinteggiatura estesa alle riprese delle pareti adiacenti non isolate, sono escluse tutte le riquadrature dovute a sporgenze, nicchie, lesene, ed \u00e8 altres\u00ec escluso il rasante, l\u2019ulteriore armatura con rete in tessuto di fibra di vetro, come le due mani di primer e la stesa dello strato di intonaco di fondo. Per altezze della parete fino a 4 m dal piano di calpestio.\"\"\"\n",
    "    sup, cat = predict(descrizione)\n",
    "    print(\"Supercategoria:\", sup)\n",
    "    print(\"Categoria:\", cat)\n"
   ]
  },
  {
   "cell_type": "code",
   "execution_count": null,
   "id": "44c9512e-1400-475a-b079-6dd6e00c28f3",
   "metadata": {},
   "outputs": [],
   "source": []
  },
  {
   "cell_type": "code",
   "execution_count": null,
   "id": "e1114537-ee36-4168-bc0d-5ac45e52affd",
   "metadata": {},
   "outputs": [],
   "source": []
  }
 ],
 "metadata": {
  "kernelspec": {
   "display_name": "Python 3 (ipykernel)",
   "language": "python",
   "name": "python3"
  },
  "language_info": {
   "codemirror_mode": {
    "name": "ipython",
    "version": 3
   },
   "file_extension": ".py",
   "mimetype": "text/x-python",
   "name": "python",
   "nbconvert_exporter": "python",
   "pygments_lexer": "ipython3",
   "version": "3.10.12"
  }
 },
 "nbformat": 4,
 "nbformat_minor": 5
}